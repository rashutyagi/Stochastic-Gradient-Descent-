{
 "cells": [
  {
   "cell_type": "code",
   "execution_count": 73,
   "metadata": {
    "colab": {},
    "colab_type": "code",
    "id": "REYPoTJ1Af7u"
   },
   "outputs": [],
   "source": [
    "import warnings\n",
    "warnings.filterwarnings(\"ignore\")\n",
    "from sklearn.datasets import load_boston\n",
    "from random import seed\n",
    "from random import randrange\n",
    "from csv import reader\n",
    "from math import sqrt\n",
    "from sklearn import preprocessing\n",
    "import pandas as pd\n",
    "import numpy as np\n",
    "import matplotlib.pyplot as plt\n",
    "from prettytable import PrettyTable\n",
    "from sklearn.linear_model import SGDRegressor\n",
    "from sklearn import preprocessing\n",
    "from sklearn.metrics import mean_squared_error\n",
    "import random"
   ]
  },
  {
   "cell_type": "code",
   "execution_count": 74,
   "metadata": {
    "colab": {},
    "colab_type": "code",
    "id": "NTQ2iH-kAwbo"
   },
   "outputs": [],
   "source": [
    "X = load_boston().data\n",
    "Y = load_boston().target"
   ]
  },
  {
   "cell_type": "code",
   "execution_count": 77,
   "metadata": {},
   "outputs": [
    {
     "data": {
      "text/plain": [
       "(506, 13)"
      ]
     },
     "execution_count": 77,
     "metadata": {},
     "output_type": "execute_result"
    }
   ],
   "source": [
    "X.shape"
   ]
  },
  {
   "cell_type": "code",
   "execution_count": 78,
   "metadata": {},
   "outputs": [
    {
     "data": {
      "text/plain": [
       "(506,)"
      ]
     },
     "execution_count": 78,
     "metadata": {},
     "output_type": "execute_result"
    }
   ],
   "source": [
    "Y.shape"
   ]
  },
  {
   "cell_type": "code",
   "execution_count": 191,
   "metadata": {},
   "outputs": [],
   "source": [
    "#Splitting whole data into train and test\n",
    "from sklearn.model_selection  import train_test_split\n",
    "X_train, X_test, y_train, y_test=train_test_split(X, Y, test_size=0.1, random_state=5)"
   ]
  },
  {
   "cell_type": "code",
   "execution_count": 192,
   "metadata": {},
   "outputs": [],
   "source": [
    "scaler = preprocessing.StandardScaler()\n",
    "X_train = scaler.fit_transform(X_train)\n",
    "X_test=scaler.fit_transform(X_test)"
   ]
  },
  {
   "cell_type": "code",
   "execution_count": 193,
   "metadata": {},
   "outputs": [],
   "source": [
    "# creating dataframe \n",
    "\n",
    "boston_df_train = pd.DataFrame(X_train)\n",
    "\n",
    "boston_df_train['Price'] = y_train\n",
    "\n"
   ]
  },
  {
   "cell_type": "code",
   "execution_count": 194,
   "metadata": {},
   "outputs": [
    {
     "data": {
      "text/plain": [
       "(455, 14)"
      ]
     },
     "execution_count": 194,
     "metadata": {},
     "output_type": "execute_result"
    }
   ],
   "source": [
    "boston_df_train.shape"
   ]
  },
  {
   "cell_type": "code",
   "execution_count": 195,
   "metadata": {},
   "outputs": [
    {
     "data": {
      "text/html": [
       "<div>\n",
       "<style scoped>\n",
       "    .dataframe tbody tr th:only-of-type {\n",
       "        vertical-align: middle;\n",
       "    }\n",
       "\n",
       "    .dataframe tbody tr th {\n",
       "        vertical-align: top;\n",
       "    }\n",
       "\n",
       "    .dataframe thead th {\n",
       "        text-align: right;\n",
       "    }\n",
       "</style>\n",
       "<table border=\"1\" class=\"dataframe\">\n",
       "  <thead>\n",
       "    <tr style=\"text-align: right;\">\n",
       "      <th></th>\n",
       "      <th>0</th>\n",
       "      <th>1</th>\n",
       "      <th>2</th>\n",
       "      <th>3</th>\n",
       "      <th>4</th>\n",
       "      <th>5</th>\n",
       "      <th>6</th>\n",
       "      <th>7</th>\n",
       "      <th>8</th>\n",
       "      <th>9</th>\n",
       "      <th>10</th>\n",
       "      <th>11</th>\n",
       "      <th>12</th>\n",
       "      <th>Price</th>\n",
       "    </tr>\n",
       "  </thead>\n",
       "  <tbody>\n",
       "    <tr>\n",
       "      <th>0</th>\n",
       "      <td>-0.391042</td>\n",
       "      <td>-0.494611</td>\n",
       "      <td>-0.535603</td>\n",
       "      <td>-0.275046</td>\n",
       "      <td>-0.518897</td>\n",
       "      <td>-0.289406</td>\n",
       "      <td>-0.852121</td>\n",
       "      <td>0.744305</td>\n",
       "      <td>-0.526486</td>\n",
       "      <td>-0.717773</td>\n",
       "      <td>0.539325</td>\n",
       "      <td>0.437644</td>\n",
       "      <td>0.041981</td>\n",
       "      <td>22.2</td>\n",
       "    </tr>\n",
       "    <tr>\n",
       "      <th>1</th>\n",
       "      <td>-0.408514</td>\n",
       "      <td>-0.494611</td>\n",
       "      <td>0.273127</td>\n",
       "      <td>-0.275046</td>\n",
       "      <td>-1.000683</td>\n",
       "      <td>0.006805</td>\n",
       "      <td>-0.806308</td>\n",
       "      <td>0.311299</td>\n",
       "      <td>-0.526486</td>\n",
       "      <td>-0.056859</td>\n",
       "      <td>0.127438</td>\n",
       "      <td>0.282801</td>\n",
       "      <td>-0.518887</td>\n",
       "      <td>21.4</td>\n",
       "    </tr>\n",
       "    <tr>\n",
       "      <th>2</th>\n",
       "      <td>-0.226784</td>\n",
       "      <td>-0.494611</td>\n",
       "      <td>-0.422826</td>\n",
       "      <td>-0.275046</td>\n",
       "      <td>-0.131748</td>\n",
       "      <td>-0.270437</td>\n",
       "      <td>1.022686</td>\n",
       "      <td>-0.040871</td>\n",
       "      <td>-0.641048</td>\n",
       "      <td>-0.598689</td>\n",
       "      <td>1.180037</td>\n",
       "      <td>-1.245467</td>\n",
       "      <td>1.141866</td>\n",
       "      <td>13.5</td>\n",
       "    </tr>\n",
       "    <tr>\n",
       "      <th>3</th>\n",
       "      <td>-0.162560</td>\n",
       "      <td>-0.494611</td>\n",
       "      <td>1.274767</td>\n",
       "      <td>-0.275046</td>\n",
       "      <td>2.733156</td>\n",
       "      <td>-0.835134</td>\n",
       "      <td>1.079071</td>\n",
       "      <td>-1.053859</td>\n",
       "      <td>-0.526486</td>\n",
       "      <td>-0.027088</td>\n",
       "      <td>-1.703168</td>\n",
       "      <td>-1.090964</td>\n",
       "      <td>0.479022</td>\n",
       "      <td>19.4</td>\n",
       "    </tr>\n",
       "    <tr>\n",
       "      <th>4</th>\n",
       "      <td>-0.417443</td>\n",
       "      <td>3.150410</td>\n",
       "      <td>-1.520920</td>\n",
       "      <td>-0.275046</td>\n",
       "      <td>-1.232972</td>\n",
       "      <td>0.148344</td>\n",
       "      <td>-1.134047</td>\n",
       "      <td>2.532514</td>\n",
       "      <td>-0.870174</td>\n",
       "      <td>-0.562964</td>\n",
       "      <td>-0.513274</td>\n",
       "      <td>0.437644</td>\n",
       "      <td>-0.980693</td>\n",
       "      <td>24.7</td>\n",
       "    </tr>\n",
       "  </tbody>\n",
       "</table>\n",
       "</div>"
      ],
      "text/plain": [
       "          0         1         2         3         4         5         6  \\\n",
       "0 -0.391042 -0.494611 -0.535603 -0.275046 -0.518897 -0.289406 -0.852121   \n",
       "1 -0.408514 -0.494611  0.273127 -0.275046 -1.000683  0.006805 -0.806308   \n",
       "2 -0.226784 -0.494611 -0.422826 -0.275046 -0.131748 -0.270437  1.022686   \n",
       "3 -0.162560 -0.494611  1.274767 -0.275046  2.733156 -0.835134  1.079071   \n",
       "4 -0.417443  3.150410 -1.520920 -0.275046 -1.232972  0.148344 -1.134047   \n",
       "\n",
       "          7         8         9        10        11        12  Price  \n",
       "0  0.744305 -0.526486 -0.717773  0.539325  0.437644  0.041981   22.2  \n",
       "1  0.311299 -0.526486 -0.056859  0.127438  0.282801 -0.518887   21.4  \n",
       "2 -0.040871 -0.641048 -0.598689  1.180037 -1.245467  1.141866   13.5  \n",
       "3 -1.053859 -0.526486 -0.027088 -1.703168 -1.090964  0.479022   19.4  \n",
       "4  2.532514 -0.870174 -0.562964 -0.513274  0.437644 -0.980693   24.7  "
      ]
     },
     "execution_count": 195,
     "metadata": {},
     "output_type": "execute_result"
    }
   ],
   "source": [
    "boston_df_train.head(5)"
   ]
  },
  {
   "cell_type": "code",
   "execution_count": 196,
   "metadata": {},
   "outputs": [
    {
     "data": {
      "text/plain": [
       "(455, 14)"
      ]
     },
     "execution_count": 196,
     "metadata": {},
     "output_type": "execute_result"
    }
   ],
   "source": [
    "boston_df_train.shape"
   ]
  },
  {
   "cell_type": "markdown",
   "metadata": {},
   "source": [
    "# Implementing our own sgd based on the formulaes derived in theory \n",
    "\n"
   ]
  },
  {
   "cell_type": "code",
   "execution_count": 209,
   "metadata": {},
   "outputs": [],
   "source": [
    "# initialising the variables firstly \n",
    "\n",
    "W = np.random.randn(1,13) # here we are giving shape as (1,13) because we have 13 features in our data starting from index 0 to 12 \n",
    "\n",
    "intercept_b = 0  # let us initialise intercept with 0 initially\n",
    "\n",
    "iter = 360 # assumed to run the code for 1000 iterations first\n",
    "\n",
    "learning_rate = 0.001  # learning rate is the term \"r\" from theory \n",
    "\n",
    "#k = 30 # as we are performing SGD hence  we need to mention the batch size ---> k=50\n",
    "\n"
   ]
  },
  {
   "cell_type": "code",
   "execution_count": 210,
   "metadata": {},
   "outputs": [
    {
     "name": "stdout",
     "output_type": "stream",
     "text": [
      "552.8115793173499 iteration number =  1\n",
      "550.6893851419745 iteration number =  2\n",
      "548.5354787684156 iteration number =  3\n",
      "546.5048068631835 iteration number =  4\n",
      "544.3641697765987 iteration number =  5\n",
      "542.1504716154933 iteration number =  6\n",
      "540.0135156723857 iteration number =  7\n",
      "537.9085284044095 iteration number =  8\n",
      "535.6711757053306 iteration number =  9\n",
      "533.5343589404699 iteration number =  10\n",
      "531.4912503666881 iteration number =  11\n",
      "529.404674088469 iteration number =  12\n",
      "527.1586559780413 iteration number =  13\n",
      "525.0263972372676 iteration number =  14\n",
      "522.9387136039917 iteration number =  15\n",
      "520.8267472536362 iteration number =  16\n",
      "518.8250480590799 iteration number =  17\n",
      "516.6767378038613 iteration number =  18\n",
      "514.6054440320936 iteration number =  19\n",
      "512.5119877078272 iteration number =  20\n",
      "510.3827287687892 iteration number =  21\n",
      "508.2752497609287 iteration number =  22\n",
      "506.17332262586103 iteration number =  23\n",
      "504.0722356848439 iteration number =  24\n",
      "501.94465206395506 iteration number =  25\n",
      "499.8026725201598 iteration number =  26\n",
      "497.63581926406 iteration number =  27\n",
      "495.7172293738525 iteration number =  28\n",
      "494.0714620472458 iteration number =  29\n",
      "491.87496676250487 iteration number =  30\n",
      "489.8290277871086 iteration number =  31\n",
      "487.747202965889 iteration number =  32\n",
      "485.66124584698724 iteration number =  33\n",
      "483.57317823888934 iteration number =  34\n",
      "481.4592946199882 iteration number =  35\n",
      "479.4130227531498 iteration number =  36\n",
      "477.3802357468388 iteration number =  37\n",
      "475.30601150889817 iteration number =  38\n",
      "473.5754468691406 iteration number =  39\n",
      "471.44175472661703 iteration number =  40\n",
      "469.3089632256276 iteration number =  41\n",
      "467.22452399302244 iteration number =  42\n",
      "465.1416165630954 iteration number =  43\n",
      "463.0925883312495 iteration number =  44\n",
      "460.95076446563036 iteration number =  45\n",
      "458.93994361235525 iteration number =  46\n",
      "456.8200463716102 iteration number =  47\n",
      "454.7088790509123 iteration number =  48\n",
      "452.62338865850353 iteration number =  49\n",
      "450.5299492917228 iteration number =  50\n",
      "448.4700950449737 iteration number =  51\n",
      "446.80827925675305 iteration number =  52\n",
      "444.7458541212694 iteration number =  53\n",
      "442.3682024979763 iteration number =  54\n",
      "440.29858368616203 iteration number =  55\n",
      "438.2401730659802 iteration number =  56\n",
      "436.1970349684131 iteration number =  57\n",
      "434.1141708842005 iteration number =  58\n",
      "432.02138037335067 iteration number =  59\n",
      "429.9620118110007 iteration number =  60\n",
      "427.95088513176745 iteration number =  61\n",
      "425.8652541036928 iteration number =  62\n",
      "423.8119403895484 iteration number =  63\n",
      "421.79278221938006 iteration number =  64\n",
      "419.7095520988352 iteration number =  65\n",
      "417.62926020774205 iteration number =  66\n",
      "415.58394039177983 iteration number =  67\n",
      "413.4835468663293 iteration number =  68\n",
      "411.42299850523506 iteration number =  69\n",
      "409.3298047065165 iteration number =  70\n",
      "407.2613751461621 iteration number =  71\n",
      "405.24873365777836 iteration number =  72\n",
      "403.2769987015459 iteration number =  73\n",
      "401.2726301799549 iteration number =  74\n",
      "399.2420934648795 iteration number =  75\n",
      "397.27374791232563 iteration number =  76\n",
      "395.2540529669951 iteration number =  77\n",
      "393.2040528620825 iteration number =  78\n",
      "391.1723733144198 iteration number =  79\n",
      "389.1624509188459 iteration number =  80\n",
      "386.98744896185315 iteration number =  81\n",
      "385.0929464582307 iteration number =  82\n",
      "383.10646969052823 iteration number =  83\n",
      "381.107770879582 iteration number =  84\n",
      "379.5327933998562 iteration number =  85\n",
      "377.4716703151719 iteration number =  86\n",
      "375.5024359781393 iteration number =  87\n",
      "373.513237847419 iteration number =  88\n",
      "371.52482152976233 iteration number =  89\n",
      "369.498679189006 iteration number =  90\n",
      "367.4849304862127 iteration number =  91\n",
      "365.46378452817123 iteration number =  92\n",
      "363.41723374052697 iteration number =  93\n",
      "361.36332288683155 iteration number =  94\n",
      "359.3548623954327 iteration number =  95\n",
      "357.1785521382149 iteration number =  96\n",
      "355.15658975892256 iteration number =  97\n",
      "353.1576351061337 iteration number =  98\n",
      "351.1885721609983 iteration number =  99\n",
      "349.2024645635486 iteration number =  100\n",
      "347.1796714955397 iteration number =  101\n",
      "345.25667782183905 iteration number =  102\n",
      "343.24825713571164 iteration number =  103\n",
      "341.2697107111625 iteration number =  104\n",
      "339.3344876087249 iteration number =  105\n",
      "337.36982979109604 iteration number =  106\n",
      "335.3223854056244 iteration number =  107\n",
      "333.0668556117243 iteration number =  108\n",
      "331.1449626464839 iteration number =  109\n",
      "329.15484032512234 iteration number =  110\n",
      "327.1949781665288 iteration number =  111\n",
      "325.2322060979308 iteration number =  112\n",
      "323.25256941981246 iteration number =  113\n",
      "321.28650912048414 iteration number =  114\n",
      "319.293660003186 iteration number =  115\n",
      "317.3678661789127 iteration number =  116\n",
      "315.4517731374 iteration number =  117\n",
      "313.49947960487907 iteration number =  118\n",
      "311.54262201894284 iteration number =  119\n",
      "309.5729691317222 iteration number =  120\n",
      "307.67853636186015 iteration number =  121\n",
      "305.76611722132424 iteration number =  122\n",
      "303.8451054841884 iteration number =  123\n",
      "301.8830124724264 iteration number =  124\n",
      "299.96881552679383 iteration number =  125\n",
      "298.05894951997874 iteration number =  126\n",
      "296.16347608160726 iteration number =  127\n",
      "294.2760936824517 iteration number =  128\n",
      "292.3726115028062 iteration number =  129\n",
      "290.41275134490843 iteration number =  130\n",
      "288.6158506961111 iteration number =  131\n",
      "286.7211250274746 iteration number =  132\n",
      "284.81347066321587 iteration number =  133\n",
      "282.90309577448124 iteration number =  134\n",
      "280.98628342658026 iteration number =  135\n",
      "279.048536814097 iteration number =  136\n",
      "277.1621324108374 iteration number =  137\n",
      "275.30908864115554 iteration number =  138\n",
      "273.31837880878436 iteration number =  139\n",
      "271.4501322185346 iteration number =  140\n",
      "269.5576563220886 iteration number =  141\n",
      "267.7036016238001 iteration number =  142\n",
      "265.8132900284128 iteration number =  143\n",
      "264.0444985372519 iteration number =  144\n",
      "262.1600141512724 iteration number =  145\n",
      "260.28796672353656 iteration number =  146\n",
      "258.43780353387154 iteration number =  147\n",
      "256.62799112275405 iteration number =  148\n",
      "254.9241896876262 iteration number =  149\n",
      "253.08247977848723 iteration number =  150\n",
      "251.26593861781177 iteration number =  151\n",
      "249.45140725739213 iteration number =  152\n",
      "247.6347635396063 iteration number =  153\n",
      "245.84143532107407 iteration number =  154\n",
      "244.04448393471628 iteration number =  155\n",
      "242.2147779700256 iteration number =  156\n",
      "240.46282885863826 iteration number =  157\n",
      "238.67114333051745 iteration number =  158\n",
      "236.85913970601203 iteration number =  159\n",
      "235.03798945593414 iteration number =  160\n",
      "233.26868070200032 iteration number =  161\n",
      "231.5166987697813 iteration number =  162\n",
      "229.82652940582815 iteration number =  163\n",
      "228.31422279194604 iteration number =  164\n",
      "226.50819809914952 iteration number =  165\n",
      "224.75168900204608 iteration number =  166\n",
      "222.99246838170515 iteration number =  167\n",
      "221.2461832356356 iteration number =  168\n",
      "219.5697134691306 iteration number =  169\n",
      "217.93322889921862 iteration number =  170\n",
      "216.18264856063502 iteration number =  171\n",
      "214.49218255449912 iteration number =  172\n",
      "212.75192931367704 iteration number =  173\n",
      "211.0150263648423 iteration number =  174\n",
      "209.2969848565009 iteration number =  175\n",
      "207.53530543976288 iteration number =  176\n",
      "205.81299675753914 iteration number =  177\n",
      "204.13075279292676 iteration number =  178\n",
      "202.40697259737843 iteration number =  179\n",
      "200.75365500598775 iteration number =  180\n",
      "199.08530766934584 iteration number =  181\n",
      "197.3949386890234 iteration number =  182\n",
      "195.8346139426407 iteration number =  183\n",
      "194.24221218772075 iteration number =  184\n",
      "192.6284391472656 iteration number =  185\n",
      "190.9600106647877 iteration number =  186\n",
      "189.2634058813044 iteration number =  187\n",
      "187.6180772019041 iteration number =  188\n",
      "186.00937366190806 iteration number =  189\n",
      "184.35787273421934 iteration number =  190\n",
      "182.69499472479015 iteration number =  191\n",
      "181.02331290702608 iteration number =  192\n",
      "179.40962855536443 iteration number =  193\n",
      "177.81580492944462 iteration number =  194\n",
      "176.20811070108954 iteration number =  195\n",
      "174.45136136151805 iteration number =  196\n",
      "172.8427039158974 iteration number =  197\n",
      "171.24258953545018 iteration number =  198\n",
      "169.64017975668781 iteration number =  199\n",
      "168.04573766666894 iteration number =  200\n"
     ]
    },
    {
     "name": "stdout",
     "output_type": "stream",
     "text": [
      "166.66639631540815 iteration number =  201\n",
      "165.08800202533453 iteration number =  202\n",
      "163.50451836050226 iteration number =  203\n",
      "161.92937731596734 iteration number =  204\n",
      "160.3948049284304 iteration number =  205\n",
      "158.861702116666 iteration number =  206\n",
      "157.31324034439902 iteration number =  207\n",
      "155.80007272465176 iteration number =  208\n",
      "154.29610344651078 iteration number =  209\n",
      "152.73216179344595 iteration number =  210\n",
      "151.2570259822568 iteration number =  211\n",
      "149.74871600694922 iteration number =  212\n",
      "148.2915892776532 iteration number =  213\n",
      "146.7878714955789 iteration number =  214\n",
      "145.2694978513212 iteration number =  215\n",
      "143.75266083058818 iteration number =  216\n",
      "142.19929022793522 iteration number =  217\n",
      "140.7243619757199 iteration number =  218\n",
      "139.26273088164646 iteration number =  219\n",
      "137.80115878308416 iteration number =  220\n",
      "136.35004657761277 iteration number =  221\n",
      "134.92220839061747 iteration number =  222\n",
      "133.46251146771894 iteration number =  223\n",
      "132.0913709005081 iteration number =  224\n",
      "130.6424508984459 iteration number =  225\n",
      "129.21372100420103 iteration number =  226\n",
      "127.91738598307272 iteration number =  227\n",
      "126.45895106738175 iteration number =  228\n",
      "125.03842346609215 iteration number =  229\n",
      "123.63412925665548 iteration number =  230\n",
      "122.27676149051194 iteration number =  231\n",
      "120.89969969371874 iteration number =  232\n",
      "119.49117449154791 iteration number =  233\n",
      "118.14649203409755 iteration number =  234\n",
      "116.8083181502106 iteration number =  235\n",
      "115.47588891747439 iteration number =  236\n",
      "114.14967448201911 iteration number =  237\n",
      "112.81055236283989 iteration number =  238\n",
      "111.49333108676456 iteration number =  239\n",
      "109.8965786405661 iteration number =  240\n",
      "108.6308123371489 iteration number =  241\n",
      "107.33498835310358 iteration number =  242\n",
      "106.0634803347434 iteration number =  243\n",
      "104.7982301039411 iteration number =  244\n",
      "103.5429420007473 iteration number =  245\n",
      "102.30186344296057 iteration number =  246\n",
      "101.0282059247293 iteration number =  247\n",
      "99.78269637302542 iteration number =  248\n",
      "98.55972790329848 iteration number =  249\n",
      "97.2523130444454 iteration number =  250\n",
      "96.03640078687837 iteration number =  251\n",
      "94.82176820014712 iteration number =  252\n",
      "93.7377291834037 iteration number =  253\n",
      "92.66181533095326 iteration number =  254\n",
      "91.49377381370955 iteration number =  255\n",
      "90.30580357520861 iteration number =  256\n",
      "89.15512678481521 iteration number =  257\n",
      "88.2921823577579 iteration number =  258\n",
      "87.14503566783003 iteration number =  259\n",
      "85.9965411529142 iteration number =  260\n",
      "84.88956827760954 iteration number =  261\n",
      "83.76961831710545 iteration number =  262\n",
      "82.66660635987391 iteration number =  263\n",
      "81.52766839541593 iteration number =  264\n",
      "80.47206461909423 iteration number =  265\n",
      "79.3845042531346 iteration number =  266\n",
      "78.28669581151901 iteration number =  267\n",
      "77.26342714520726 iteration number =  268\n",
      "76.22948509866764 iteration number =  269\n",
      "75.17669153611467 iteration number =  270\n",
      "74.15582865475128 iteration number =  271\n",
      "73.14829889032288 iteration number =  272\n",
      "72.14338098158134 iteration number =  273\n",
      "70.8382507388944 iteration number =  274\n",
      "69.85242791519568 iteration number =  275\n",
      "68.89536595947911 iteration number =  276\n",
      "67.92296146165573 iteration number =  277\n",
      "66.95386905951734 iteration number =  278\n",
      "66.03449378027823 iteration number =  279\n",
      "65.09856628403759 iteration number =  280\n",
      "64.20166279062484 iteration number =  281\n",
      "63.28066744549001 iteration number =  282\n",
      "62.40353705348861 iteration number =  283\n",
      "61.62343983244907 iteration number =  284\n",
      "60.75855100800574 iteration number =  285\n",
      "59.86530841066305 iteration number =  286\n",
      "58.99562752469977 iteration number =  287\n",
      "58.16935637847242 iteration number =  288\n",
      "57.39654499832103 iteration number =  289\n",
      "56.57195803168584 iteration number =  290\n",
      "55.75624344289431 iteration number =  291\n",
      "54.9571917174068 iteration number =  292\n",
      "54.16225939847907 iteration number =  293\n",
      "53.40963467949991 iteration number =  294\n",
      "52.62916205024488 iteration number =  295\n",
      "51.87979003575552 iteration number =  296\n",
      "51.0640247065809 iteration number =  297\n",
      "50.696192704089135 iteration number =  298\n",
      "49.97499260994064 iteration number =  299\n",
      "49.25704689900464 iteration number =  300\n",
      "48.53010788684765 iteration number =  301\n",
      "47.841509311992844 iteration number =  302\n",
      "47.16675004073626 iteration number =  303\n",
      "46.50774430341014 iteration number =  304\n",
      "45.83917958225075 iteration number =  305\n",
      "45.11046263685829 iteration number =  306\n",
      "44.572807500028105 iteration number =  307\n",
      "43.973111231938525 iteration number =  308\n",
      "43.35610191672548 iteration number =  309\n",
      "42.714199396174024 iteration number =  310\n",
      "42.107333252563194 iteration number =  311\n",
      "41.5527108720893 iteration number =  312\n",
      "40.90183183220957 iteration number =  313\n",
      "40.4491822307696 iteration number =  314\n",
      "39.92380020059482 iteration number =  315\n",
      "39.32008504577574 iteration number =  316\n",
      "38.69075440189671 iteration number =  317\n",
      "38.25341316890314 iteration number =  318\n",
      "37.79252328811588 iteration number =  319\n",
      "37.34368484864604 iteration number =  320\n",
      "36.89873789380879 iteration number =  321\n",
      "36.470155795434906 iteration number =  322\n",
      "36.09769146844939 iteration number =  323\n",
      "35.68134786683392 iteration number =  324\n",
      "35.285354613476194 iteration number =  325\n",
      "34.94295739823104 iteration number =  326\n",
      "34.581681500813836 iteration number =  327\n",
      "34.24039678210371 iteration number =  328\n",
      "33.97123811390468 iteration number =  329\n",
      "33.67128717520723 iteration number =  330\n",
      "33.358449867635834 iteration number =  331\n",
      "32.92485349088019 iteration number =  332\n",
      "32.661223249454274 iteration number =  333\n",
      "32.3670266880287 iteration number =  334\n",
      "32.14466702611773 iteration number =  335\n",
      "31.927677088312308 iteration number =  336\n",
      "31.70436017836385 iteration number =  337\n",
      "31.521475548069265 iteration number =  338\n",
      "31.3436000026143 iteration number =  339\n",
      "31.21287855063485 iteration number =  340\n",
      "31.035640406109703 iteration number =  341\n",
      "30.91042571389759 iteration number =  342\n",
      "30.802430661799487 iteration number =  343\n",
      "30.696297692282307 iteration number =  344\n",
      "30.582825226518345 iteration number =  345\n",
      "30.47668851868688 iteration number =  346\n",
      "30.44612161813914 iteration number =  347\n",
      "30.41124299692326 iteration number =  348\n",
      "30.369038113929932 iteration number =  349\n",
      "30.37057206379806 iteration number =  350\n",
      "30.384013938743475 iteration number =  351\n",
      "30.40846063504574 iteration number =  352\n",
      "30.450195677469654 iteration number =  353\n",
      "30.50649751227522 iteration number =  354\n",
      "30.601009094314996 iteration number =  355\n",
      "30.78318668560277 iteration number =  356\n",
      "30.94349461233245 iteration number =  357\n",
      "31.168343714106474 iteration number =  358\n",
      "31.302977303700242 iteration number =  359\n",
      "31.452711407494395 iteration number =  360\n",
      "Code Executed\n"
     ]
    }
   ],
   "source": [
    "# running the iterations \n",
    "\n",
    "for i in range(0,iter,1):  # we will be using 200 iterations in order to make our sgd optimisation converge\n",
    "    # considering some temporary variables for calculation purposes\n",
    "    w_temp = W\n",
    "    intercept_temp = intercept_b \n",
    "    a = np.zeros((1,13))  # you will see its purpose in the coming part of code\n",
    "    p = 0\n",
    "    \n",
    "    # as we are persofming SGD hence we need a batch size which i have mentioned in k where k = 50 (initially taken)\n",
    "    k = random.randrange(2,455,1)\n",
    "    \n",
    "    boston_sampled_data = boston_df_train.sample(k)\n",
    "    \n",
    "    # now in order to perform numpy multiplication we will need data in the form of numpy arrays instea of dataframe columns\n",
    "    \n",
    "    data_array_sampled_train = np.array(boston_sampled_data.drop('Price',axis=1))\n",
    "    \n",
    "    price_array__sampled_train = np.array(boston_sampled_data['Price'])\n",
    "    \n",
    "    # now as we have considered k data points for our batch size hence we need to do summation k number of times hence \n",
    "    # we will be running this loop k number of times \n",
    "    \n",
    "    for j in range(0,k,1):\n",
    "        # vector 'a' will be storing the weight vector while we calculate it using summation while vector 'b' will store the intercept\n",
    "        \n",
    "        # Don't be afraid of the formula below it is just a simple mathematical equation for partial derivative whose image \n",
    "        # I will be adding in the code below\n",
    "        \n",
    "        # expression for dL/dW ---> here L stands for the Loss function and W is the weight vector \n",
    "        # note that we are performing the partial derivative here \n",
    "        \n",
    "        a = a + data_array_sampled_train[j] * (price_array__sampled_train[j] - (np.dot(w_temp,data_array_sampled_train[j])- intercept_temp))\n",
    "        \n",
    "        \n",
    "        # expression for dL/db ---> here L stands for the Loss function and b is the intercept.\n",
    "        # note that we are performing the partial derivative here\n",
    "        \n",
    "        p = p + (price_array__sampled_train[j] - (np.dot(w_temp,data_array_sampled_train[j]) - intercept_temp))\n",
    "        \n",
    "        # now after running out from this loop we will need to put the values received in a and p in our formula for sgd\n",
    "    \n",
    "    W = (w_temp - (learning_rate*(a))*(-2)/k)\n",
    "    \n",
    "    intercept_b = (intercept_temp - (learning_rate*(p))*-2/k)\n",
    "    \n",
    "    y_pred=np.dot(pd.DataFrame(X_train),w_temp.T) + intercept_temp\n",
    "    \n",
    "    print(mean_squared_error(y_train,y_pred),\"iteration number = \",i+1)\n",
    "    \n",
    "    \n",
    "    \n",
    "    \n",
    "\n",
    "print(\"Code Executed\")"
   ]
  },
  {
   "cell_type": "code",
   "execution_count": 211,
   "metadata": {},
   "outputs": [
    {
     "name": "stdout",
     "output_type": "stream",
     "text": [
      "[[ 0.19775983 -0.54693517  0.74043259  1.67203693 -0.80918403  3.14161302\n",
      "  -0.58206753 -0.07826739 -0.0883333  -1.25386233 -1.46906655  1.21539777\n",
      "  -1.80213939]]\n"
     ]
    }
   ],
   "source": [
    "print(W)"
   ]
  },
  {
   "cell_type": "code",
   "execution_count": 212,
   "metadata": {},
   "outputs": [
    {
     "name": "stdout",
     "output_type": "stream",
     "text": [
      "[23.74762475]\n"
     ]
    }
   ],
   "source": [
    "print(intercept_b)"
   ]
  },
  {
   "cell_type": "markdown",
   "metadata": {},
   "source": [
    "## Now we have received the weight vector and the intercept using sgd hence what we need now isto test how it works on our boston house data"
   ]
  },
  {
   "cell_type": "code",
   "execution_count": 213,
   "metadata": {},
   "outputs": [
    {
     "name": "stdout",
     "output_type": "stream",
     "text": [
      "51\n"
     ]
    }
   ],
   "source": [
    "# let us store all the predicted values using our equation which we received from above in a list so that we can compare them \n",
    "# with their actual values\n",
    "\n",
    "predicted_y_list = []\n",
    "\n",
    "# note that our prediction will be on our test data which is unseen till now \n",
    "\n",
    "q = len(X_test)\n",
    "\n",
    "print(q)"
   ]
  },
  {
   "cell_type": "code",
   "execution_count": 214,
   "metadata": {},
   "outputs": [],
   "source": [
    "# hence we will need to run the loop for 152 times \n",
    "\n",
    "for m in range(q):\n",
    "    \n",
    "    product = np.dot(W,X_test[m]) + intercept_b  # althought intercept_b is a scalar then also it will get added with the vector because numpy broadcasting will take place here \n",
    "    \n",
    "    # (np.dot(W,X_test[3]) + intercept_b) --- > this statement is giving an output of type \"numpy.ndarray\" although it gives a single number only as output\n",
    "    \n",
    "    # hence in order to add it into the list we need to convert it into the scaler so that we can subtract it from the actual y later on\n",
    "    \n",
    "    # refer this ---> https://docs.scipy.org/doc/numpy-1.14.1/reference/generated/numpy.asscalar.html\n",
    "    \n",
    "    predicted_y_list.append(np.asscalar(product))\n",
    "    "
   ]
  },
  {
   "cell_type": "code",
   "execution_count": 215,
   "metadata": {},
   "outputs": [
    {
     "name": "stdout",
     "output_type": "stream",
     "text": [
      "[34.03647028174309, 27.70056174756405, 27.198795653446318, 11.066499786615465, 39.586380432984356]\n"
     ]
    }
   ],
   "source": [
    "print(predicted_y_list[0:5])"
   ]
  },
  {
   "cell_type": "markdown",
   "metadata": {},
   "source": [
    "## Now as we have received the predicted y values and we already have the actual y values from our test dataset hence now we can easily plot a graph between them showing how much they vary."
   ]
  },
  {
   "cell_type": "code",
   "execution_count": 221,
   "metadata": {},
   "outputs": [
    {
     "data": {
      "text/plain": [
       "Text(0.5, 1.0, 'Comparison --> Actual House price vs Predicted House price For manually Implemented SGD')"
      ]
     },
     "execution_count": 221,
     "metadata": {},
     "output_type": "execute_result"
    },
    {
     "data": {
      "image/png": "[encoded data removed]",
      "text/plain": [
       "<Figure size 432x288 with 1 Axes>"
      ]
     },
     "metadata": {
      "needs_background": "light"
     },
     "output_type": "display_data"
    }
   ],
   "source": [
    "# plotting \n",
    "\n",
    "plt.scatter(y_test,predicted_y_list)\n",
    "plt.xlabel('Actual House price')\n",
    "plt.ylabel('Predictd House price')\n",
    "plt.title('Comparison --> Actual House price vs Predicted House price For manually Implemented SGD')\n",
    "\n"
   ]
  },
  {
   "cell_type": "markdown",
   "metadata": {},
   "source": [
    "## Now our immediate task is to see how far away are our predicted values from the actual values which directly means the erros there are various type of error measures but we will be using Mean Squared Error for this purpose "
   ]
  },
  {
   "cell_type": "code",
   "execution_count": 217,
   "metadata": {},
   "outputs": [
    {
     "data": {
      "text/plain": [
       "51"
      ]
     },
     "execution_count": 217,
     "metadata": {},
     "output_type": "execute_result"
    }
   ],
   "source": [
    "len(y_test)"
   ]
  },
  {
   "cell_type": "code",
   "execution_count": 218,
   "metadata": {},
   "outputs": [
    {
     "data": {
      "text/plain": [
       "51"
      ]
     },
     "execution_count": 218,
     "metadata": {},
     "output_type": "execute_result"
    }
   ],
   "source": [
    "len(predicted_y_list)"
   ]
  },
  {
   "cell_type": "code",
   "execution_count": 219,
   "metadata": {},
   "outputs": [
    {
     "name": "stdout",
     "output_type": "stream",
     "text": [
      "The mean squared error for above data is  23.169325246438593\n"
     ]
    }
   ],
   "source": [
    "MSE = mean_squared_error(y_test,predicted_y_list)\n",
    "\n",
    "print(\"The mean squared error for above data is \", MSE)"
   ]
  },
  {
   "cell_type": "markdown",
   "metadata": {},
   "source": [
    "## Using the inbuilt SGD of sklearn"
   ]
  },
  {
   "cell_type": "code",
   "execution_count": 220,
   "metadata": {},
   "outputs": [
    {
     "name": "stdout",
     "output_type": "stream",
     "text": [
      "17.316004115382064\n"
     ]
    }
   ],
   "source": [
    "clf = SGDRegressor()\n",
    "clf.fit(X_train,y_train)\n",
    "print(mean_squared_error(y_test, clf.predict(X_test)))"
   ]
  },
  {
   "cell_type": "code",
   "execution_count": 222,
   "metadata": {},
   "outputs": [
    {
     "data": {
      "text/plain": [
       "Text(0.5, 1.0, 'Comparison --> Actual House price vs Predicted House price For Sklearn Implemented SGD')"
      ]
     },
     "execution_count": 222,
     "metadata": {},
     "output_type": "execute_result"
    },
    {
     "data": {
      "image/png": "[encoded data removed]",
      "text/plain": [
       "<Figure size 432x288 with 1 Axes>"
      ]
     },
     "metadata": {
      "needs_background": "light"
     },
     "output_type": "display_data"
    }
   ],
   "source": [
    "# plotting \n",
    "\n",
    "plt.scatter(y_test,clf.predict(X_test))\n",
    "plt.xlabel('Actual House price')\n",
    "plt.ylabel('Predictd House price')\n",
    "plt.title('Comparison --> Actual House price vs Predicted House price For Sklearn Implemented SGD')"
   ]
  },
  {
   "cell_type": "markdown",
   "metadata": {},
   "source": [
    "# We can clearly see that there is a little difference in the mean squared error for the manual implementation of SGD and the sklearn implementation of SGD."
   ]
  },
  {
   "cell_type": "markdown",
   "metadata": {},
   "source": [
    "## Comparison of weights of W vector for both of the implementations"
   ]
  },
  {
   "cell_type": "code",
   "execution_count": 223,
   "metadata": {},
   "outputs": [
    {
     "name": "stdout",
     "output_type": "stream",
     "text": [
      "Absolute values of the manually implemented SGD weight vector [[0.19775983 0.54693517 0.74043259 1.67203693 0.80918403 3.14161302\n",
      "  0.58206753 0.07826739 0.0883333  1.25386233 1.46906655 1.21539777\n",
      "  1.80213939]]\n"
     ]
    }
   ],
   "source": [
    "print(\"Absolute values of the manually implemented SGD weight vector\",np.absolute(W))"
   ]
  },
  {
   "cell_type": "code",
   "execution_count": 224,
   "metadata": {},
   "outputs": [
    {
     "name": "stdout",
     "output_type": "stream",
     "text": [
      "Absolute values of the Sklearn implemented SGD weight vector [0.84967382 0.56945941 0.31470784 0.89292223 0.96679116 3.18632025\n",
      " 0.252425   2.14235906 0.84121742 0.36905084 1.78184724 1.03276892\n",
      " 3.68698684]\n"
     ]
    }
   ],
   "source": [
    "print(\"Absolute values of the Sklearn implemented SGD weight vector\",np.absolute(clf.coef_))"
   ]
  },
  {
   "cell_type": "code",
   "execution_count": 233,
   "metadata": {},
   "outputs": [
    {
     "data": {
      "text/plain": [
       "13"
      ]
     },
     "execution_count": 233,
     "metadata": {},
     "output_type": "execute_result"
    }
   ],
   "source": [
    "len(np.absolute(clf.coef_))"
   ]
  },
  {
   "cell_type": "code",
   "execution_count": 234,
   "metadata": {},
   "outputs": [
    {
     "data": {
      "text/plain": [
       "(1, 13)"
      ]
     },
     "execution_count": 234,
     "metadata": {},
     "output_type": "execute_result"
    }
   ],
   "source": [
    "W.shape"
   ]
  },
  {
   "cell_type": "code",
   "execution_count": 235,
   "metadata": {},
   "outputs": [
    {
     "data": {
      "text/plain": [
       "(1, 13)"
      ]
     },
     "execution_count": 235,
     "metadata": {},
     "output_type": "execute_result"
    }
   ],
   "source": [
    "np.absolute(W).shape"
   ]
  },
  {
   "cell_type": "code",
   "execution_count": 236,
   "metadata": {},
   "outputs": [
    {
     "data": {
      "text/plain": [
       "(13,)"
      ]
     },
     "execution_count": 236,
     "metadata": {},
     "output_type": "execute_result"
    }
   ],
   "source": [
    "np.absolute(clf.coef_).shape"
   ]
  },
  {
   "cell_type": "markdown",
   "metadata": {},
   "source": [
    "## Tabular representation of the same comparison"
   ]
  },
  {
   "cell_type": "code",
   "execution_count": 242,
   "metadata": {},
   "outputs": [
    {
     "name": "stdout",
     "output_type": "stream",
     "text": [
      "+------------------------------+-------------------------------+\n",
      "| Manual implementation of SGD | Sklearn implementation of SGD |\n",
      "+------------------------------+-------------------------------+\n",
      "|     0.19775982778873508      |       0.849673817458087       |\n",
      "|      0.5469351679189904      |       0.5694594095246961      |\n",
      "|      0.7404325859116031      |      0.31470783552063475      |\n",
      "|      1.6720369295560906      |       0.8929222260976756      |\n",
      "|      0.8091840296847326      |       0.9667911624597837      |\n",
      "|      3.141613016301469       |       3.186320253749258       |\n",
      "|      0.5820675285114666      |      0.25242500395231554      |\n",
      "|     0.07826739028619853      |       2.142359062369862       |\n",
      "|     0.08833329820189378      |       0.8412174223115585      |\n",
      "|      1.2538623271063285      |      0.36905083922966747      |\n",
      "|      1.4690665533635052      |       1.7818472441506517      |\n",
      "|      1.2153977728421064      |       1.0327689218294063      |\n",
      "|       1.80213938975846       |       3.6869868392475764      |\n",
      "+------------------------------+-------------------------------+\n"
     ]
    }
   ],
   "source": [
    "table = PrettyTable()\n",
    "table.field_names = ['Manual implementation of SGD', 'Sklearn implementation of SGD']\n",
    "\n",
    "for i in range(len(np.absolute(clf.coef_))):\n",
    "    table.add_row([(np.absolute(W)[0][i]),np.absolute(clf.coef_)[i]])\n",
    "print(table)"
   ]
  },
  {
   "cell_type": "markdown",
   "metadata": {},
   "source": [
    "# Summary and steps"
   ]
  },
  {
   "cell_type": "markdown",
   "metadata": {},
   "source": [
    "### Here in order to find which number of iterations suits the best to our model for getting the minimun loss in case of manual implementation of sgd we printed our MSE value with every iterations and accordingly selected that iteration value to be the best where we found our MSE was converging to a minimum value and after that it started increasing gradually.\n",
    "\n",
    "#### There is a slight difference between the sklearn implementation MSE and the manual implementation MSE. Sk learn implemenatation gives it out to be 17.3 and manual gives it out to be 23. I have tried every possible change and this is the best I am getting."
   ]
  },
  {
   "cell_type": "code",
   "execution_count": null,
   "metadata": {},
   "outputs": [],
   "source": []
  }
 ],
 "metadata": {
  "colab": {
   "name": "Untitled3.ipynb",
   "provenance": [],
   "version": "0.3.2"
  },
  "kernelspec": {
   "display_name": "Python 3",
   "language": "python",
   "name": "python3"
  },
  "language_info": {
   "codemirror_mode": {
    "name": "ipython",
    "version": 3
   },
   "file_extension": ".py",
   "mimetype": "text/x-python",
   "name": "python",
   "nbconvert_exporter": "python",
   "pygments_lexer": "ipython3",
   "version": "3.7.3"
  }
 },
 "nbformat": 4,
 "nbformat_minor": 1
}
